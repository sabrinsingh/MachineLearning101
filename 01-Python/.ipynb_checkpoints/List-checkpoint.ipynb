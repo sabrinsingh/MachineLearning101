{
 "cells": [
  {
   "cell_type": "markdown",
   "id": "5e719024",
   "metadata": {},
   "source": [
    "WAP to remove duplicate elements from list"
   ]
  },
  {
   "cell_type": "code",
   "execution_count": 1,
   "id": "402099ab",
   "metadata": {},
   "outputs": [],
   "source": [
    "lst1=[1,2,'1','apple','banana']"
   ]
  },
  {
   "cell_type": "code",
   "execution_count": 2,
   "id": "5d8206e9",
   "metadata": {},
   "outputs": [],
   "source": [
    "lst2=[1,'apple']"
   ]
  },
  {
   "cell_type": "code",
   "execution_count": null,
   "id": "48e4b1e7",
   "metadata": {},
   "outputs": [],
   "source": []
  },
  {
   "cell_type": "markdown",
   "id": "b643adcc",
   "metadata": {},
   "source": [
    "01--Using Set"
   ]
  }
 ],
 "metadata": {
  "kernelspec": {
   "display_name": "Python 3 (ipykernel)",
   "language": "python",
   "name": "python3"
  },
  "language_info": {
   "codemirror_mode": {
    "name": "ipython",
    "version": 3
   },
   "file_extension": ".py",
   "mimetype": "text/x-python",
   "name": "python",
   "nbconvert_exporter": "python",
   "pygments_lexer": "ipython3",
   "version": "3.11.5"
  }
 },
 "nbformat": 4,
 "nbformat_minor": 5
}
