{
 "cells": [
  {
   "cell_type": "code",
   "execution_count": 1,
   "id": "936bc044",
   "metadata": {},
   "outputs": [],
   "source": [
    "def area_of_tri(b,h):\n",
    "    1/2 * b *h"
   ]
  },
  {
   "cell_type": "code",
   "execution_count": null,
   "id": "a99c9e6c",
   "metadata": {},
   "outputs": [],
   "source": []
  }
 ],
 "metadata": {
  "kernelspec": {
   "display_name": "Python 3 (ipykernel)",
   "language": "python",
   "name": "python3"
  },
  "language_info": {
   "codemirror_mode": {
    "name": "ipython",
    "version": 3
   },
   "file_extension": ".py",
   "mimetype": "text/x-python",
   "name": "python",
   "nbconvert_exporter": "python",
   "pygments_lexer": "ipython3",
   "version": "3.11.5"
  }
 },
 "nbformat": 4,
 "nbformat_minor": 5
}
