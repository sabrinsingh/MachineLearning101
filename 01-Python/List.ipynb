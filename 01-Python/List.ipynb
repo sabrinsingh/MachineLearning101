{
 "cells": [
  {
   "cell_type": "markdown",
   "id": "61e71178",
   "metadata": {},
   "source": [
    "WAP to remove duplicate elements from list"
   ]
  },
  {
   "cell_type": "code",
   "execution_count": 1,
   "id": "762b1e57",
   "metadata": {},
   "outputs": [],
   "source": [
    "lst1=[1,2,'1','apple','banana']"
   ]
  },
  {
   "cell_type": "code",
   "execution_count": 2,
   "id": "f12e6957",
   "metadata": {},
   "outputs": [],
   "source": [
    "lst2=[1,'apple']"
   ]
  },
  {
   "cell_type": "code",
   "execution_count": 3,
   "id": "f1950399",
   "metadata": {},
   "outputs": [
    {
     "data": {
      "text/plain": [
       "[1, 2, '1', 'apple', 'banana', 1, 'apple']"
      ]
     },
     "execution_count": 3,
     "metadata": {},
     "output_type": "execute_result"
    }
   ],
   "source": [
    "lst3=lst1+lst2\n",
    "lst3"
   ]
  },
  {
   "cell_type": "markdown",
   "id": "4213cf15",
   "metadata": {},
   "source": [
    "01--Using Set"
   ]
  },
  {
   "cell_type": "code",
   "execution_count": 4,
   "id": "bc6f2708",
   "metadata": {},
   "outputs": [
    {
     "data": {
      "text/plain": [
       "[1, 2, 'apple', '1', 'banana']"
      ]
     },
     "execution_count": 4,
     "metadata": {},
     "output_type": "execute_result"
    }
   ],
   "source": [
    "list(set(lst3))"
   ]
  },
  {
   "cell_type": "markdown",
   "id": "3dc7ad88",
   "metadata": {},
   "source": [
    "02--Using normal for loop"
   ]
  },
  {
   "cell_type": "code",
   "execution_count": 5,
   "id": "8bfcf830",
   "metadata": {},
   "outputs": [
    {
     "data": {
      "text/plain": [
       "[1, 2, '1', 'apple', 'banana']"
      ]
     },
     "execution_count": 5,
     "metadata": {},
     "output_type": "execute_result"
    }
   ],
   "source": [
    "new_list=[]\n",
    "for item in lst3:\n",
    "    if item not in new_list:\n",
    "        new_list.append(item)\n",
    "new_list"
   ]
  },
  {
   "cell_type": "markdown",
   "id": "6d13248c",
   "metadata": {},
   "source": [
    "03--using list comprehension"
   ]
  },
  {
   "cell_type": "code",
   "execution_count": 6,
   "id": "f1d87c8b",
   "metadata": {},
   "outputs": [
    {
     "data": {
      "text/plain": [
       "[1, 2, '1', 'apple', 'banana']"
      ]
     },
     "execution_count": 6,
     "metadata": {},
     "output_type": "execute_result"
    }
   ],
   "source": [
    "new_list1=[]\n",
    "[new_list1.append(item) for item in lst3 if item not in new_list1]\n",
    "new_list1"
   ]
  }
 ],
 "metadata": {
  "kernelspec": {
   "display_name": "Python 3 (ipykernel)",
   "language": "python",
   "name": "python3"
  },
  "language_info": {
   "codemirror_mode": {
    "name": "ipython",
    "version": 3
   },
   "file_extension": ".py",
   "mimetype": "text/x-python",
   "name": "python",
   "nbconvert_exporter": "python",
   "pygments_lexer": "ipython3",
   "version": "3.11.5"
  }
 },
 "nbformat": 4,
 "nbformat_minor": 5
}
